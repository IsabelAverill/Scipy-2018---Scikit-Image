{
 "cells": [
  {
   "cell_type": "markdown",
   "metadata": {},
   "source": [
    "\n",
    "# Image analysis in Python with SciPy and scikit-image\n",
    "\n",
    "<div style=\"border: solid 1px; background: #abcfef; font-size: 150%; padding: 1em; margin: 1em; width: 75%;\">\n",
    "\n",
    "<p>To participate, please follow the preparation instructions at</p>\n",
    "<p>https://github.com/scikit-image/skimage-tutorials/</p>\n",
    "<p>(click on **preparation.md**).</p>\n",
    "\n",
    "</div>\n",
    "\n",
    "<hr/>\n",
    "TL;DR: Install Python 3.6, scikit-image, and the Jupyter notebook.  Then clone this repo:\n",
    "\n",
    "```python\n",
    "git clone --depth=1 https://github.com/scikit-image/skimage-tutorials\n",
    "```\n",
    "<hr/>\n",
    "\n",
    "scikit-image is a collection of image processing algorithms for the\n",
    "SciPy ecosystem.  It aims to have a Pythonic API (read: does what you'd expect), \n",
    "is well documented, and provides researchers and practitioners with well-tested,\n",
    "fundamental building blocks for rapidly constructing sophisticated image\n",
    "processing pipelines.\n",
    "\n",
    "In this tutorial, we provide an interactive overview of the library,\n",
    "where participants have the opportunity to try their hand at various\n",
    "image processing challenges.\n",
    "\n",
    "Attendees are expected to have a working knowledge of NumPy, SciPy, and Matplotlib.\n",
    "\n",
    "Across domains, modalities, and scales of exploration, images form an integral subset of scientific measurements. Despite a deep appeal to human intuition, gaining understanding of image content remains challenging, and often relies on heuristics. Even so, the wealth of knowledge contained inside of images cannot be understated, and <a href=\"http://scikit-image.org\">scikit-image</a>, along with <a href=\"http://scipy.org\">SciPy</a>, provides a strong foundation upon which to build algorithms and applications for exploring this domain.\n",
    "\n",
    "\n",
    "# Prerequisites\n",
    "\n",
    "Please see the [preparation instructions](https://github.com/scikit-image/skimage-tutorials/blob/master/preparation.md).\n",
    "\n",
    "# Schedule\n",
    "\n",
    "- 1:30–2:20: Introduction & [images as NumPy arrays](../../lectures/00_images_are_arrays.ipynb)\n",
    "- 2:30–3:20: [Filters](../../lectures/1_image_filters.ipynb)\n",
    "- 3:30–4:20: [Segmentation](../../lectures/4_segmentation.ipynb)\n",
    "- 4:30–5:15: [StackOverflow Challenges | BYO problem](../../lectures/stackoverflow_challenges.ipynb)\n",
    "- 5:15–5:30: Q&A\n",
    "\n",
    "**Note:** Snacks are available 2:15-4:00; coffee & tea until 5.\n",
    "\n",
    "# For later\n",
    "\n",
    "- Check out the other [lectures](../../lectures)\n",
    "- Check out a [3D segmentation workflow](../../lectures/three_dimensional_image_processing.ipynb)\n",
    "- Some [real world use cases](http://bit.ly/skimage_real_world)\n",
    "\n",
    "\n",
    "# After the tutorial\n",
    "\n",
    "Stay in touch!\n",
    "\n",
    "- Follow the project's progress [on GitHub](https://github.com/scikit-image/scikit-image).\n",
    "- Ask the team questions on the [mailing list](https://mail.python.org/mailman/listinfo/scikit-image)\n",
    "- [Contribute!](http://scikit-image.org/docs/dev/contribute.html)\n",
    "- Read [our paper](https://peerj.com/articles/453/) (or [this other paper, for skimage in microscopy](https://ascimaging.springeropen.com/articles/10.1186/s40679-016-0031-0))"
   ]
  },
  {
   "cell_type": "code",
   "execution_count": 1,
   "metadata": {},
   "outputs": [
    {
     "name": "stdout",
     "output_type": "stream",
     "text": [
      "[✓] scikit-image  0.14.0\n",
      "[✓] numpy         1.14.5\n",
      "[✓] scipy         1.1.0\n",
      "[✓] matplotlib    2.2.2\n",
      "[✓] notebook      5.4.0\n",
      "[✓] scikit-learn  0.19.1\n"
     ]
    }
   ],
   "source": [
    "%run ../../check_setup.py"
   ]
  }
 ],
 "metadata": {
  "kernelspec": {
   "display_name": "Python [default]",
   "language": "python",
   "name": "python3"
  },
  "language_info": {
   "codemirror_mode": {
    "name": "ipython",
    "version": 3
   },
   "file_extension": ".py",
   "mimetype": "text/x-python",
   "name": "python",
   "nbconvert_exporter": "python",
   "pygments_lexer": "ipython3",
   "version": "3.6.6"
  },
  "widgets": {
   "state": {},
   "version": "1.1.2"
  }
 },
 "nbformat": 4,
 "nbformat_minor": 2
}
